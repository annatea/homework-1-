{
 "cells": [
  {
   "cell_type": "code",
   "execution_count": null,
   "metadata": {},
   "outputs": [],
   "source": [
    "# There is no need to run this chunk of code.\n",
    "import os\n",
    "wd=''\n",
    "os.chdir(wd)\n",
    "%run HW1_solutions.ipynb"
   ]
  },
  {
   "cell_type": "markdown",
   "metadata": {},
   "source": [
    "## Homework 1 Submission\n",
    "Write your name and surname below:\n",
    "<br>\n",
    "Name: Anna\n",
    "<br>\n",
    "Surname: Abrahamyan"
   ]
  },
  {
   "cell_type": "markdown",
   "metadata": {},
   "source": [
    "***Problem 1:*** <br> Write a program that: <br>\n",
    "a. compares the lengths of two texts given below (i.e. the number of characters in each text) <br>\n",
    "b. compares the numbers of words in each text<br>\n",
    "c. calculates the frequency of each word (the number of times the word appears in the text) in each text and puts them in a dictionary <br>\n",
    "d. prints the number of unique words used in each text as a dictionary.\n",
    "<br>\n",
    "Example 1: {\"The legth of text a\": 487,\"The legth of text b\": 562}<br>\n",
    "Example 2: Word frequency- {\"Jovi\":2,\"in\": 4}\n"
   ]
  },
  {
   "cell_type": "code",
   "execution_count": 64,
   "metadata": {},
   "outputs": [],
   "source": [
    "a = 'Bon Jovi is an American rock band formed in 1983 in Sayreville, New Jersey. \\\n",
    "It consists of singer Jon Bon Jovi, keyboardist David Bryan, drummer Tico Torres, \\\n",
    "guitarist PhilX, and bassist Hugh McDonald. Previous bassist Alec John Such was \\\n",
    "dismissed in 1994, and longtime guitarist and co-songwriter Richie Sambora left in 2013.'\n",
    "\n",
    "b = \"Ronald Wilson Reagan (/ˈreɪɡən/; February 6, 1911 – June 5, 2004) \\\n",
    "was an American politician who served as the 40th president of the United \\\n",
    "States from 1981 to 1989. Prior to his presidency, he was a Hollywood actor \\\n",
    "and union leader before serving as the 33rd governor of California from 1967 to 1975.\""
   ]
  },
  {
   "cell_type": "code",
   "execution_count": 69,
   "metadata": {},
   "outputs": [
    {
     "name": "stdout",
     "output_type": "stream",
     "text": [
      "{'The length of text a': 326, 'The length of text b': 301}\n",
      "The length of text a is greater than the length of text b\n",
      "\n",
      "{'The number of words in text a': 52, 'The number of words in text b': 53}\n",
      "The number of words in text a is greater than the number of words in text b\n",
      "\n",
      "{'Bon': 2, 'Jovi': 1, 'is': 1, 'an': 1, 'American': 1, 'rock': 1, 'band': 1, 'formed': 1, 'in': 4, '1983': 1, 'Sayreville,': 1, 'New': 1, 'Jersey.': 1, 'It': 1, 'consists': 1, 'of': 1, 'singer': 1, 'Jon': 1, 'Jovi,': 1, 'keyboardist': 1, 'David': 1, 'Bryan,': 1, 'drummer': 1, 'Tico': 1, 'Torres,': 1, 'guitarist': 2, 'PhilX,': 1, 'and': 3, 'bassist': 2, 'Hugh': 1, 'McDonald.': 1, 'Previous': 1, 'Alec': 1, 'John': 1, 'Such': 1, 'was': 1, 'dismissed': 1, '1994,': 1, 'longtime': 1, 'co-songwriter': 1, 'Richie': 1, 'Sambora': 1, 'left': 1, '2013.': 1}\n",
      "\n",
      "{'Ronald': 1, 'Wilson': 1, 'Reagan': 1, '(/ˈreɪɡən/;': 1, 'February': 1, '6,': 1, '1911': 1, '–': 1, 'June': 1, '5,': 1, '2004)': 1, 'was': 2, 'an': 1, 'American': 1, 'politician': 1, 'who': 1, 'served': 1, 'as': 2, 'the': 3, '40th': 1, 'president': 1, 'of': 2, 'United': 1, 'States': 1, 'from': 2, '1981': 1, 'to': 3, '1989.': 1, 'Prior': 1, 'his': 1, 'presidency,': 1, 'he': 1, 'a': 1, 'Hollywood': 1, 'actor': 1, 'and': 1, 'union': 1, 'leader': 1, 'before': 1, 'serving': 1, '33rd': 1, 'governor': 1, 'California': 1, '1967': 1, '1975.': 1}\n",
      "\n",
      "{'Text a': 36, 'Text b': 0}\n"
     ]
    }
   ],
   "source": [
    "###_____________Start code here________________###\n",
    "print({'The length of text a': len(a), \"The length of text b\": len(b)})\n",
    "\n",
    "if len(a)>len(b):\n",
    "    print(\"The length of text a is greater than the length of text b\")\n",
    "else:\n",
    "     print(\"The length of text a is greater than the length of text b\")\n",
    "\n",
    "print(\n",
    "\n",
    "\n",
    ")\n",
    "        \n",
    "print({'The number of words in text a': len(a.split()), \"The number of words in text b\": len(b.split())})\n",
    "\n",
    "if len(a.split())>len(b.split()):\n",
    "    print(\"The number of words in text a is greater than the number of words in text b\")\n",
    "else:\n",
    "     print(\"The number of words in text a is greater than the number of words in text b\")\n",
    "        \n",
    "        \n",
    "print(  \n",
    "\n",
    "\n",
    ")\n",
    "new_dict={}\n",
    "a1=a.split()\n",
    "for i in a1:\n",
    "    count=a1.count(i)\n",
    "    new_dict.update({i: count})\n",
    "print(new_dict)\n",
    "        \n",
    "print(\n",
    "\n",
    "\n",
    ") \n",
    "new_dict1={}\n",
    "b1=b.split()\n",
    "for j in b1:\n",
    "    count=b1.count(j)\n",
    "    new_dict1.update({j: count})\n",
    "print(new_dict1)\n",
    "        \n",
    "print(\n",
    "\n",
    "\n",
    ")         \n",
    "        \n",
    "lista=a.split()\n",
    "listb=b.split()\n",
    "a1=0\n",
    "b1=0\n",
    "dict1={}\n",
    "for i in lista:\n",
    "    if a.count(i)==1:\n",
    "        a1+=1\n",
    "for j in listb:\n",
    "    if b.count(i)==1:\n",
    "        b1+=1\n",
    "dict1.update({\"Text a\": a1})\n",
    "dict1.update({\"Text b\": b1})\n",
    "print(dict1)\n",
    "        \n",
    "\n",
    "###_____________End code here_________________###"
   ]
  },
  {
   "cell_type": "code",
   "execution_count": null,
   "metadata": {},
   "outputs": [],
   "source": [
    "# There is no need to run this chunk of code.\n",
    "ex1(a,b)"
   ]
  },
  {
   "cell_type": "markdown",
   "metadata": {},
   "source": [
    "***Problem 13:*** Write a program to calculate the sum of the digits of a number  until it is a single-digit number (Example: **199** -> 1+9+9=**19** -> 1+9=**10** -> 1+0=**1**). Let the program print the result of each step (the bolded numbers in the example). Run the program for 289, 1011, 3333."
   ]
  },
  {
   "cell_type": "code",
   "execution_count": 13,
   "metadata": {},
   "outputs": [
    {
     "name": "stdout",
     "output_type": "stream",
     "text": [
      "19\n",
      "10\n",
      "1\n",
      "3\n",
      "12\n",
      "3\n"
     ]
    }
   ],
   "source": [
    "###_____________Start code here_________________###\n",
    "import math\n",
    "\n",
    "def sum(a):\n",
    "    b=str(a)\n",
    "    i=0\n",
    "    j=0\n",
    "    \n",
    "    while( i <len(b)):\n",
    "        c=int(b[i])\n",
    "        j+=c\n",
    "        i+=1\n",
    "    print(j)\n",
    "    \n",
    "    if j>9:\n",
    "        return(sum(j))\n",
    "    else:\n",
    "        return(None)\n",
    "sum(289),\n",
    "sum(1011),\n",
    "sum(3333)\n",
    "\n",
    "    \n",
    "###_____________End code here_________________###"
   ]
  },
  {
   "cell_type": "code",
   "execution_count": null,
   "metadata": {},
   "outputs": [],
   "source": [
    "# There is no need to run this chunk of code.\n",
    "ex13(289)\n",
    "ex13(1011)\n",
    "ex13(3333)"
   ]
  },
  {
   "cell_type": "markdown",
   "metadata": {},
   "source": [
    "***Problem 14:*** Write a program to print a chess board where **\"X\"s** are black squares and **\"O\"s** are white ones. Hint: you can use \"end\" parameter of print() function to print on the same line and separate the outputs of different prints by space or any character you want. More on this topic here: https://www.geeksforgeeks.org/gfact-50-python-end-parameter-in-print/.\n",
    "<br>The output should be like this:\n",
    "<img src=\"chess.jpg\" style=\"width: 200px;\">"
   ]
  },
  {
   "cell_type": "code",
   "execution_count": 17,
   "metadata": {},
   "outputs": [
    {
     "name": "stdout",
     "output_type": "stream",
     "text": [
      " O X O X O X\n",
      " X O X O X O\n",
      " O X O X O X\n",
      " X O X O X O\n",
      " O X O X O X\n",
      " X O X O X O\n"
     ]
    }
   ],
   "source": [
    "###_____________Start code here_________________###\n",
    "\n",
    "x=0\n",
    "while x<3:\n",
    "    i=0\n",
    "    a=\"\"\n",
    "    b=\"\"\n",
    "    while i<3:\n",
    "        a+= \" O\" +  \" X\"\n",
    "        b+= \" X\" + \" O\"\n",
    "        i+=1\n",
    "    print(a)\n",
    "    print(b)\n",
    "    \n",
    "    x+=1\n",
    "        \n",
    "        \n",
    "###_____________End code here_________________###"
   ]
  },
  {
   "cell_type": "code",
   "execution_count": null,
   "metadata": {},
   "outputs": [],
   "source": [
    "# There is no need to run this chunk of code.\n",
    "ex14()"
   ]
  },
  {
   "cell_type": "markdown",
   "metadata": {},
   "source": [
    "***Problem 15:*** Write a program to reverse the digits of a given integer without using any built-in function or slicing. (**Example**: 12345 to 54321). Run the program for 4815162342."
   ]
  },
  {
   "cell_type": "code",
   "execution_count": 92,
   "metadata": {},
   "outputs": [
    {
     "name": "stdout",
     "output_type": "stream",
     "text": [
      "2432615184\n"
     ]
    }
   ],
   "source": [
    "###_____________Start code here_________________\n",
    "def reverseNum(str):\n",
    "    i =len(str)-1\n",
    "    str1=\"\"\n",
    "    \n",
    "    while(i>=0):\n",
    "        str1=str1+str[i]\n",
    "        i-=1\n",
    "    return str1\n",
    "print(reverseNum(\"4815162342\"))\n",
    "\n",
    "\n",
    "###_____________End code here_________________###"
   ]
  },
  {
   "cell_type": "code",
   "execution_count": null,
   "metadata": {},
   "outputs": [],
   "source": [
    "# There is no need to run this chunk of code.\n",
    "ex15(4815162342)"
   ]
  },
  {
   "cell_type": "markdown",
   "metadata": {},
   "source": [
    "***Problem 17:*** Write a function that will find all numbers between A and B (inclusive) such that each digit of the number is even. For example foo(20,26) returns [22,24,26]. Call the function for A=40 and B=140. 0 is even number."
   ]
  },
  {
   "cell_type": "code",
   "execution_count": null,
   "metadata": {},
   "outputs": [],
   "source": []
  },
  {
   "cell_type": "code",
   "execution_count": 159,
   "metadata": {},
   "outputs": [
    {
     "name": "stdout",
     "output_type": "stream",
     "text": [
      "[40, 42, 44, 46, 48, 60, 62, 64, 66, 68, 80, 82, 84, 86, 88]\n"
     ]
    }
   ],
   "source": [
    "###_____________Start code here_________________###\n",
    "start=40\n",
    "end=140\n",
    "a=[]\n",
    "for i in range(start,end):\n",
    "     if int(str(i)[0])%2 == 0 and int(str(i)[1])%2 == 0:\n",
    "        a.append(i)  \n",
    "print(a)\n",
    "    \n",
    "    \n",
    "###_____________End code here_________________###"
   ]
  },
  {
   "cell_type": "code",
   "execution_count": null,
   "metadata": {},
   "outputs": [],
   "source": [
    "# There is no need to run this chunk of code.\n",
    "ex17(40,140)"
   ]
  },
  {
   "cell_type": "markdown",
   "metadata": {},
   "source": [
    "***Problem 18:*** On basic cell phones numeric keypad is used to write a message. Write a function to output the numerical sequence of the keys to be pressed for any message. For instance, numerical sequence for typing \"P\" will be 7 and for \"I\" 444. Another example, the sequence for \"hello\" will be 4433555555666. Make the input text uppercase before converting to numerical sequence. Call the function for the following input **\"HI DEAR! I WILL BE LATE TODAY.\"**\n",
    "\n",
    "| Key | Symbols |\n",
    "|----|----|\n",
    "|1|. , ? ! :|\n",
    "|2|A B C|\n",
    "|3|D E F|\n",
    "|4|G H I|\n",
    "|5|J K L|\n",
    "|6|M N O|\n",
    "|7|P Q R S|\n",
    "|8|T U V|\n",
    "|9|W X Y Z|\n",
    "|0| space |\n"
   ]
  },
  {
   "cell_type": "code",
   "execution_count": 146,
   "metadata": {},
   "outputs": [
    {
     "name": "stdout",
     "output_type": "stream",
     "text": [
      "44444033327771111044409444555555022330555283308666329991\n"
     ]
    }
   ],
   "source": [
    "\n",
    "\n",
    "def ex18(blah):\n",
    "    phone_dict={0:[\" \"], 1: [\".\",\",\",\"?\",\"!\",\":\"], 2: [\"A\",\"B\",\"C\"], 3: [\"D\",\"E\",\"F\"],4: [\"G\",\"H\", \"I\"], 5: [\"J\",\"K\",\"L\"], 6: [\"M\",\"N\",\"O\"], 7: [\"P\",\"Q\",\"R\",\"S\"], 8: [\"T\",\"U\",\"V\"], 9: [\"W\",\"X\",\"Y\",\"Z\"]}\n",
    "\n",
    "    blah=blah.upper()\n",
    "    new_list=[]\n",
    "    str1=\"\"\n",
    "    for i in list(blah):\n",
    "        for j in phone_dict:\n",
    "            for k in phone_dict[j]:\n",
    "                if k==i:\n",
    "                    index=phone_dict[j].index(k)+1\n",
    "                    \n",
    "                    while index > 0:\n",
    "                        str1 = str1+str(j)\n",
    "                        index-=1\n",
    "                else:\n",
    "                    continue\n",
    "    return str1\n",
    "print(ex18(\"HI DEAR! I WILL BE LATE TODAY.\"))\n",
    "                "
   ]
  },
  {
   "cell_type": "code",
   "execution_count": null,
   "metadata": {},
   "outputs": [],
   "source": [
    "# There is no need to run this chunk of code.\n",
    "print(ex18(\"HI DEAR! I WILL BE LATE TODAY.\"))\n"
   ]
  },
  {
   "cell_type": "markdown",
   "metadata": {},
   "source": [
    "***Problem 20:*** Write a program that accepts a sentence and prints the number of letters and digits in it. Run the program for \"1, 2, 3, 4... Let's run the code!\" "
   ]
  },
  {
   "cell_type": "code",
   "execution_count": 109,
   "metadata": {},
   "outputs": [],
   "source": []
  },
  {
   "cell_type": "code",
   "execution_count": 111,
   "metadata": {},
   "outputs": [],
   "source": [
    "def ex20(string):\n",
    "    a=list(\"abcdefghijklmnopqrstuvwxyz\")\n",
    "    list1=list(string)\n",
    "    count_d=0\n",
    "    count_let=0\n",
    "    for i in list1:\n",
    "        if i.isdigit():\n",
    "            count_d +=1\n",
    "        for j in a:\n",
    "            if i.lower() == j:\n",
    "                 count_let +=1\n",
    "    print(\"The number of digits is:\", count_d)\n",
    "    print(\"The number of letters is:\", count_let)\n",
    "    "
   ]
  },
  {
   "cell_type": "code",
   "execution_count": 96,
   "metadata": {},
   "outputs": [
    {
     "name": "stdout",
     "output_type": "stream",
     "text": [
      "The number of digits is: 4\n",
      "The number of letters is: 14\n"
     ]
    }
   ],
   "source": [
    "# There is no need to run this chunk of code.\n",
    "ex20(\"1, 2, 3, 4... Let's run the code!\")"
   ]
  },
  {
   "cell_type": "markdown",
   "metadata": {},
   "source": [
    "***Problem 22:*** Two people throw two six-sided fair dices each. The one with greater sum wins, and if the sum is equal, they draw. Write a program that simulates the game and plays 100 time. Print the number of wins of Player 1, Player 2 and draws."
   ]
  },
  {
   "cell_type": "code",
   "execution_count": 128,
   "metadata": {},
   "outputs": [
    {
     "name": "stdout",
     "output_type": "stream",
     "text": [
      "The winner is Player1 42  times\n",
      "The winner is Player2 39  times\n",
      "Draw 18  times\n"
     ]
    }
   ],
   "source": [
    "###_____________Start code here_________________###\n",
    "import math\n",
    "import random\n",
    "def main():\n",
    "    player1=0\n",
    "    player2=0\n",
    "    rounds = 1\n",
    "    Winner1=0\n",
    "    Winner2=0\n",
    "    draw=0\n",
    "    \n",
    "    while rounds != 100:\n",
    "        \n",
    "        player1 = roll()\n",
    "        player2 = roll()\n",
    "        \n",
    "        \n",
    "        if player1 == player2:\n",
    "            draw+=1\n",
    "        elif player1 > player2:\n",
    "            Winner1+=1\n",
    "        else:\n",
    "            Winner2+=1\n",
    "        \n",
    "        rounds+=1\n",
    "    print(\"The winner is Player1\", Winner1,\" times\")\n",
    "    print(\"The winner is Player2\", Winner2,\" times\")\n",
    "    print(\"Draw\",draw,\" times\")\n",
    "def roll():\n",
    "    diceRoll = random.randint(1,6)\n",
    "    return diceRoll\n",
    "main()\n",
    "\n",
    "###_____________End code here_________________###"
   ]
  },
  {
   "cell_type": "code",
   "execution_count": null,
   "metadata": {},
   "outputs": [],
   "source": [
    "# There is no need to run this chunk of code.\n",
    "ex22()"
   ]
  },
  {
   "cell_type": "markdown",
   "metadata": {},
   "source": [
    "***Problem 23:*** Write a program that randomly generates a nine-character password. First 3 characters must be from the set \"let\", second 3 characters from the set \"num\", last three ones from the set \"sym\". Set seed() to 42 and generate a password."
   ]
  },
  {
   "cell_type": "code",
   "execution_count": null,
   "metadata": {},
   "outputs": [],
   "source": []
  },
  {
   "cell_type": "code",
   "execution_count": null,
   "metadata": {},
   "outputs": [],
   "source": [
    "let = {'A','B','C','a','b','c'}\n",
    "num = {1,2,3,4,5,6}\n",
    "sym = {'!','@','#','$','%','^'}"
   ]
  },
  {
   "cell_type": "code",
   "execution_count": 151,
   "metadata": {},
   "outputs": [
    {
     "name": "stdout",
     "output_type": "stream",
     "text": [
      "['a', 'A', 'B', 2, 5, 5, '^', '!', '#']\n"
     ]
    }
   ],
   "source": [
    "###_____________Start code here_________________###\n",
    "\n",
    "import random\n",
    "random.seed(42)\n",
    "let= ['A','B','C','a','b','c']\n",
    "num = [1,2,3,4,5,6]\n",
    "sym = ['!','@','#','$','%','^']\n",
    "value1 = random.choices(let, k=3)\n",
    "value2 = random.choices(num, k=3)\n",
    "value3 = random.choices(sym, k=3)\n",
    "value= value1 + value2 + value3\n",
    "print(value)\n",
    "\n",
    "###_____________End code here_________________###"
   ]
  },
  {
   "cell_type": "code",
   "execution_count": null,
   "metadata": {},
   "outputs": [],
   "source": [
    "# There is no need to run this chunk of code.\n",
    "ex23()"
   ]
  },
  {
   "cell_type": "markdown",
   "metadata": {},
   "source": [
    "\n",
    "***Problem 24:*** Write a program to find all the numbers divisible by 6 but not a multiple of 5 between 100 and 500 (inclusive). Print the numbers as a comma-separated string."
   ]
  },
  {
   "cell_type": "code",
   "execution_count": 150,
   "metadata": {},
   "outputs": [
    {
     "name": "stdout",
     "output_type": "stream",
     "text": [
      "[102, 108, 114, 126, 132, 138, 144, 156, 162, 168, 174, 186, 192, 198, 204, 216, 222, 228, 234, 246, 252, 258, 264, 276, 282, 288, 294, 306, 312, 318, 324, 336, 342, 348, 354, 366, 372, 378, 384, 396, 402, 408, 414, 426, 432, 438, 444, 456, 462, 468, 474, 486, 492, 498]\n"
     ]
    }
   ],
   "source": [
    "###_____________Start code here_________________###\n",
    "lower=100\n",
    "upper=500\n",
    "list1=[]\n",
    "for i in range(100,500):\n",
    "    if(i%6==0 and i%5!=0):\n",
    "        list1.append(i)\n",
    "print(list1)\n",
    "\n",
    "###_____________End code here_________________###"
   ]
  },
  {
   "cell_type": "code",
   "execution_count": null,
   "metadata": {},
   "outputs": [],
   "source": [
    "# There is no need to run this chunk of code.\n",
    "ex24()"
   ]
  },
  {
   "cell_type": "markdown",
   "metadata": {},
   "source": [
    "***Example 25:*** Write a program that converts \"firstname lastname\" to \"lastname, firstname\", using list comprehensions."
   ]
  },
  {
   "cell_type": "code",
   "execution_count": 25,
   "metadata": {},
   "outputs": [],
   "source": [
    "ls = ['Հրաչյա Վարդանյան', 'Անուշ Կարապետյան', 'Գոռ Անտոնյան', 'Տաթեւ Հարությունյան', 'Mary Sargsyan']"
   ]
  },
  {
   "cell_type": "code",
   "execution_count": 149,
   "metadata": {},
   "outputs": [
    {
     "name": "stdout",
     "output_type": "stream",
     "text": [
      "Վարդանյան, Հրաչյա\n",
      "Կարապետյան, Անուշ\n",
      "Անտոնյան, Գոռ\n",
      "Հարությունյան, Տաթեւ\n",
      "Sargsyan, Mary\n"
     ]
    }
   ],
   "source": [
    "###_____________Start code here_________________###\n",
    "ls = ['Հրաչյա Վարդանյան', 'Անուշ Կարապետյան', 'Գոռ Անտոնյան', 'Տաթեւ Հարությունյան', 'Mary Sargsyan']\n",
    "\n",
    "for i in ls:\n",
    "      split_name = i.split(\" \")\n",
    "      new_name = split_name[1] + \", \" + split_name[0]\n",
    "      print(new_name)\n",
    "        \n",
    "###_____________End code here_________________###\n",
    "        "
   ]
  },
  {
   "cell_type": "code",
   "execution_count": null,
   "metadata": {},
   "outputs": [],
   "source": [
    "# There is no need to run this chunk of code.\n",
    "ex25(ls)"
   ]
  },
  {
   "cell_type": "markdown",
   "metadata": {},
   "source": [
    "***Problem 27:*** Write a function to devide an input list of ages between 0 and 70 into 4 groups.<br><br>\n",
    "Baby Boomers  - (50 to 70 years old]<br>\n",
    "Generation X - (34 to 50 years old]<br>\n",
    "Generation Y - (18 to 34 years old]<br>\n",
    "Generation Z - [0 to 18 years old]<br>\n",
    "\n",
    "Return a dictionary with the following structure:\n",
    "{'Group 1':[ages],'Group 2':[ages],'Group 3':[ages],'Group 4':[ages]}"
   ]
  },
  {
   "cell_type": "code",
   "execution_count": 114,
   "metadata": {},
   "outputs": [],
   "source": [
    "def ex27(ls):\n",
    "    ls = [18,29,3,14,69,10,1,58,52,23,24,5,65]\n",
    "    Group1=[]\n",
    "    Group2=[]\n",
    "    Group3=[]\n",
    "    Group4=[]\n",
    "    new_dict={}\n",
    "\n",
    "    for i in ls:\n",
    "        if i>0 and i<18:\n",
    "            Group1.append(i)\n",
    "        elif i>18 and i<34:\n",
    "            Group2.append(i)\n",
    "        elif i>34 and i<50:\n",
    "            Group3.append(i)\n",
    "        elif i>50 and i<70:\n",
    "            Group4.append(i)\n",
    "    new_dict = {\"Group1\": Group1, \"Group2\": Group2, \"Group3\": Group3, \"Group4\": Group4}\n",
    "\n",
    "    print(new_dict)"
   ]
  },
  {
   "cell_type": "code",
   "execution_count": 115,
   "metadata": {},
   "outputs": [
    {
     "name": "stdout",
     "output_type": "stream",
     "text": [
      "{'Group1': [3, 14, 10, 1, 5], 'Group2': [29, 23, 24], 'Group3': [], 'Group4': [69, 58, 52, 65]}\n"
     ]
    }
   ],
   "source": [
    "# There is no need to run this chunk of code.\n",
    "ex27(ls)"
   ]
  }
 ],
 "metadata": {
  "kernelspec": {
   "display_name": "Python 3",
   "language": "python",
   "name": "python3"
  },
  "language_info": {
   "codemirror_mode": {
    "name": "ipython",
    "version": 3
   },
   "file_extension": ".py",
   "mimetype": "text/x-python",
   "name": "python",
   "nbconvert_exporter": "python",
   "pygments_lexer": "ipython3",
   "version": "3.7.1"
  }
 },
 "nbformat": 4,
 "nbformat_minor": 2
}
